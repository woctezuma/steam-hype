{
  "nbformat": 4,
  "nbformat_minor": 0,
  "metadata": {
    "colab": {
      "name": "steam-hype.ipynb",
      "provenance": [],
      "collapsed_sections": [
        "I8uLlsQxh4PN",
        "zZQxfiWcdrDN",
        "gSwtQpZ2DOEV",
        "r6WX7ciBHocz",
        "7jOt_SOuDPi2",
        "JuR8A-XUDTXM",
        "q50LyrcgdoYM",
        "YA14IbpKHyaE",
        "GDp1ZrbhH0WZ",
        "nvMkmdl5H1jD",
        "xIDvdIKpH3Vy",
        "BHfjcxpBgzcf",
        "71jeEDFpKfdU",
        "pjR0NjdQKzxi"
      ]
    },
    "kernelspec": {
      "name": "python3",
      "display_name": "Python 3"
    }
  },
  "cells": [
    {
      "cell_type": "markdown",
      "metadata": {
        "id": "Rf_SpkiPfaS4"
      },
      "source": [
        "# Steam-Hype\n",
        "\n",
        "Reference: https://github.com/woctezuma/steam-hype"
      ]
    },
    {
      "cell_type": "markdown",
      "metadata": {
        "id": "I8uLlsQxh4PN"
      },
      "source": [
        "## Load data"
      ]
    },
    {
      "cell_type": "markdown",
      "metadata": {
        "id": "zZQxfiWcdrDN"
      },
      "source": [
        "### Steam\n",
        "\n",
        "Reference: https://store.steampowered.com/search/?filter=popularwishlist"
      ]
    },
    {
      "cell_type": "markdown",
      "metadata": {
        "id": "gSwtQpZ2DOEV"
      },
      "source": [
        "#### Download"
      ]
    },
    {
      "cell_type": "code",
      "metadata": {
        "id": "8kzm7gW5Ce1A"
      },
      "source": [
        "import requests\n",
        "\n",
        "def get_steam_url(page_no=1):\n",
        "  url = 'https://store.steampowered.com/search/?filter=popularwishlist&page={}'\n",
        "  return url.format(page_no)\n",
        "\n",
        "def download_steam(num_pages=10):\n",
        "  text_aggregate = ''\n",
        "\n",
        "  # We download 10 pages with 25 games per page, for a total of 250 games.\n",
        "  for page_no in range(num_pages):\n",
        "    r = requests.get(url=get_steam_url(1+page_no))\n",
        "    if r.ok:\n",
        "      text_aggregate += r.text\n",
        "  \n",
        "  return text_aggregate"
      ],
      "execution_count": 11,
      "outputs": []
    },
    {
      "cell_type": "markdown",
      "metadata": {
        "id": "r6WX7ciBHocz"
      },
      "source": [
        "#### Save to disk"
      ]
    },
    {
      "cell_type": "code",
      "metadata": {
        "id": "jDo7kfY_EMZz"
      },
      "source": [
        "from pathlib import Path\n",
        "\n",
        "def get_steam_filename():\n",
        "  return 'steam.txt'\n",
        "\n",
        "def save_steam_to_disk():\n",
        "  if not Path(get_steam_filename()).exists():\n",
        "    text_aggregate = download_steam()\n",
        "    if len(text_aggregate)>0:\n",
        "      with open(get_steam_filename(), 'w') as f:\n",
        "        f.write(text_aggregate)\n",
        "  return"
      ],
      "execution_count": 12,
      "outputs": []
    },
    {
      "cell_type": "code",
      "metadata": {
        "id": "FrQ6Rm5BHiNG"
      },
      "source": [
        "save_steam_to_disk()"
      ],
      "execution_count": 13,
      "outputs": []
    },
    {
      "cell_type": "markdown",
      "metadata": {
        "id": "7jOt_SOuDPi2"
      },
      "source": [
        "#### Parse"
      ]
    },
    {
      "cell_type": "code",
      "metadata": {
        "id": "i2IZAa4lcMp7"
      },
      "source": [
        "def filter_steam_document(lines):\n",
        "  return [l for l in lines if 'data-ds-appid' in l]\n",
        "\n",
        "def parse_steam_app_id(line):\n",
        "  element  = next(e for e in line.split() if 'data-ds-appid' in e)\n",
        "  return int(element.split('\"')[1])\n",
        "\n",
        "def load_steam_ranking():\n",
        "  with open(get_steam_filename(), 'r') as f:\n",
        "    d = f.readlines()\n",
        "  steam_ranking = [parse_steam_app_id(l) for l in filter_steam_document(d)]\n",
        "  print('[Steam] #apps = {}'.format(len(steam_ranking)))\n",
        "  return steam_ranking"
      ],
      "execution_count": 14,
      "outputs": []
    },
    {
      "cell_type": "code",
      "metadata": {
        "colab": {
          "base_uri": "https://localhost:8080/"
        },
        "id": "AZSMxA6VcTGi",
        "outputId": "2551041e-7933-4878-ea51-d2d98c72450f"
      },
      "source": [
        "steam_ranking = load_steam_ranking()"
      ],
      "execution_count": 15,
      "outputs": [
        {
          "output_type": "stream",
          "text": [
            "[Steam] #apps = 250\n"
          ],
          "name": "stdout"
        }
      ]
    },
    {
      "cell_type": "markdown",
      "metadata": {
        "id": "JuR8A-XUDTXM"
      },
      "source": [
        "#### Check"
      ]
    },
    {
      "cell_type": "code",
      "metadata": {
        "colab": {
          "base_uri": "https://localhost:8080/"
        },
        "id": "6aSTSVSRdhgf",
        "outputId": "f3c3c1fe-4483-497f-d26d-2def86c12041"
      },
      "source": [
        "for i in range(10):\n",
        "  print('{:03d}) {}'.format(25*i+1, steam_ranking[25*i]))"
      ],
      "execution_count": 16,
      "outputs": [
        {
          "output_type": "stream",
          "text": [
            "001) 1091500\n",
            "026) 668580\n",
            "051) 1293160\n",
            "076) 844980\n",
            "101) 1220140\n",
            "126) 1043810\n",
            "151) 1341050\n",
            "176) 1015890\n",
            "201) 1120320\n",
            "226) 429380\n"
          ],
          "name": "stdout"
        }
      ]
    },
    {
      "cell_type": "markdown",
      "metadata": {
        "id": "q50LyrcgdoYM"
      },
      "source": [
        "### SteamDB\n",
        "\n",
        "Reference: https://steamdb.info/upcoming/?hype"
      ]
    },
    {
      "cell_type": "markdown",
      "metadata": {
        "id": "YA14IbpKHyaE"
      },
      "source": [
        "#### Download"
      ]
    },
    {
      "cell_type": "code",
      "metadata": {
        "id": "mj-Hf-FFIMU2"
      },
      "source": [
        "import requests\n",
        "\n",
        "def get_steamdb_url():\n",
        "  return 'https://steamdb.info/upcoming/?hype'\n",
        "\n",
        "def get_headers():\n",
        "  # To avoid status code 403 (\"Forbidden\"):\n",
        "  return {'user-agent': 'my-app/0.0.1'}\n",
        "\n",
        "def download_steamdb():\n",
        "  text_aggregate = ''\n",
        "  r = requests.get(url=get_steamdb_url(),\n",
        "                   headers=get_headers())\n",
        "  if r.ok:\n",
        "    text_aggregate = r.text    \n",
        "  return text_aggregate"
      ],
      "execution_count": 17,
      "outputs": []
    },
    {
      "cell_type": "markdown",
      "metadata": {
        "id": "GDp1ZrbhH0WZ"
      },
      "source": [
        "#### Save to disk"
      ]
    },
    {
      "cell_type": "code",
      "metadata": {
        "id": "c-IvD0N1H-sV"
      },
      "source": [
        "from pathlib import Path\n",
        "\n",
        "def get_steamdb_filename():\n",
        "  return 'steamdb.txt'\n",
        "\n",
        "def save_steamdb_to_disk():\n",
        "  if not Path(get_steamdb_filename()).exists():\n",
        "    text_aggregate = download_steamdb()\n",
        "    if len(text_aggregate)>0:\n",
        "      with open(get_steamdb_filename(), 'w') as f:\n",
        "        f.write(text_aggregate)\n",
        "  return"
      ],
      "execution_count": 18,
      "outputs": []
    },
    {
      "cell_type": "code",
      "metadata": {
        "id": "oi7lF1j1H7S4"
      },
      "source": [
        "save_steamdb_to_disk()"
      ],
      "execution_count": 19,
      "outputs": []
    },
    {
      "cell_type": "markdown",
      "metadata": {
        "id": "nvMkmdl5H1jD"
      },
      "source": [
        "#### Parse"
      ]
    },
    {
      "cell_type": "code",
      "metadata": {
        "id": "xjNvH6GsY1zt"
      },
      "source": [
        "def filter_steamdb_document(lines):\n",
        "  return [l for l in lines if l.startswith('<a href=\"/app/')]\n",
        "\n",
        "def parse_steamdb_app_id(line):\n",
        "  return int(line.split('/')[2])\n",
        "\n",
        "def load_steamdb_ranking():\n",
        "  with open('steamdb.txt', 'r') as f:\n",
        "    d = f.readlines()\n",
        "  steamdb_ranking = [parse_steamdb_app_id(l) for l in filter_steamdb_document(d)]\n",
        "  print('[SteamDB] #apps = {}'.format(len(steamdb_ranking)))\n",
        "  return steamdb_ranking"
      ],
      "execution_count": 20,
      "outputs": []
    },
    {
      "cell_type": "code",
      "metadata": {
        "colab": {
          "base_uri": "https://localhost:8080/"
        },
        "id": "xJFt_q3gZFpJ",
        "outputId": "8124835e-fa39-4b5a-e9f8-4db95c7f88aa"
      },
      "source": [
        "steamdb_ranking = load_steamdb_ranking()"
      ],
      "execution_count": 21,
      "outputs": [
        {
          "output_type": "stream",
          "text": [
            "[SteamDB] #apps = 250\n"
          ],
          "name": "stdout"
        }
      ]
    },
    {
      "cell_type": "markdown",
      "metadata": {
        "id": "xIDvdIKpH3Vy"
      },
      "source": [
        "#### Check"
      ]
    },
    {
      "cell_type": "code",
      "metadata": {
        "colab": {
          "base_uri": "https://localhost:8080/"
        },
        "id": "_Eea2G49eGfF",
        "outputId": "0df2795c-1366-4e49-be17-b62c1ddc45ef"
      },
      "source": [
        "for i in range(10):\n",
        "  print('{:03d}) {}'.format(25*i+1, steamdb_ranking[25*i]))"
      ],
      "execution_count": 22,
      "outputs": [
        {
          "output_type": "stream",
          "text": [
            "001) 1091500\n",
            "026) 1363080\n",
            "051) 907650\n",
            "076) 657580\n",
            "101) 1325200\n",
            "126) 1040200\n",
            "151) 1105670\n",
            "176) 750200\n",
            "201) 1279240\n",
            "226) 685560\n"
          ],
          "name": "stdout"
        }
      ]
    },
    {
      "cell_type": "markdown",
      "metadata": {
        "id": "BHfjcxpBgzcf"
      },
      "source": [
        "## Rank-biased overlap"
      ]
    },
    {
      "cell_type": "markdown",
      "metadata": {
        "id": "db5su1d9KnSc"
      },
      "source": [
        "Paper:\n",
        "> WEBBER, William, MOFFAT, Alistair, et ZOBEL, Justin. **A similarity measure for indefinite rankings**. ACM Transactions on Information Systems (TOIS), 2010, vol. 28, no 4, p. 1-38. [PDF](http://w.codalism.com/research/papers/wmz10_tois.pdf)"
      ]
    },
    {
      "cell_type": "markdown",
      "metadata": {
        "id": "l97fAw8RKjwl"
      },
      "source": [
        "Code: https://github.com/dlukes/rbo"
      ]
    },
    {
      "cell_type": "markdown",
      "metadata": {
        "id": "71jeEDFpKfdU"
      },
      "source": [
        "### Install"
      ]
    },
    {
      "cell_type": "code",
      "metadata": {
        "colab": {
          "base_uri": "https://localhost:8080/"
        },
        "id": "II72Nf_khLcT",
        "outputId": "bdf589bf-fb9a-4571-a65c-4bf1746aaaa2"
      },
      "source": [
        "!git clone https://github.com/dlukes/rbo.git\n",
        "%cp rbo/rbo.py ."
      ],
      "execution_count": 23,
      "outputs": [
        {
          "output_type": "stream",
          "text": [
            "Cloning into 'rbo'...\n",
            "remote: Enumerating objects: 7, done.\u001b[K\n",
            "remote: Counting objects: 100% (7/7), done.\u001b[K\n",
            "remote: Compressing objects: 100% (6/6), done.\u001b[K\n",
            "remote: Total 42 (delta 1), reused 5 (delta 1), pack-reused 35\u001b[K\n",
            "Unpacking objects: 100% (42/42), done.\n"
          ],
          "name": "stdout"
        }
      ]
    },
    {
      "cell_type": "markdown",
      "metadata": {
        "id": "kG5UrWHXKwg7"
      },
      "source": [
        "### Run"
      ]
    },
    {
      "cell_type": "code",
      "metadata": {
        "colab": {
          "base_uri": "https://localhost:8080/"
        },
        "id": "wFNn8xpegeRL",
        "outputId": "99846bd7-b295-4f31-f707-36a4f6fcf9d1"
      },
      "source": [
        "from rbo import rbo\n",
        "\n",
        "rbo_output = rbo(steam_ranking,\n",
        "                 steamdb_ranking,\n",
        "                 p=0.999)\n",
        "\n",
        "rbo_lower_bound = rbo_output.min\n",
        "rbo_residual = rbo_output.res\n",
        "rbo_estimate = rbo_output.ext\n",
        "\n",
        "print('Rank-biased overlap estimate: {:.4f}'.format(rbo_estimate))"
      ],
      "execution_count": 31,
      "outputs": [
        {
          "output_type": "stream",
          "text": [
            "Rank-biased overlap estimate: 0.7231\n"
          ],
          "name": "stdout"
        }
      ]
    },
    {
      "cell_type": "code",
      "metadata": {
        "colab": {
          "base_uri": "https://localhost:8080/"
        },
        "id": "qynXgBooiO9F",
        "outputId": "d0d9e6cf-967a-4ddd-8868-55d1eb15d33c"
      },
      "source": [
        "from rbo import average_overlap\n",
        "\n",
        "reference_overlap = average_overlap(steam_ranking,\n",
        "                                    steamdb_ranking)\n",
        "\n",
        "print('Average overlap = {:.4f}'.format(reference_overlap))"
      ],
      "execution_count": 32,
      "outputs": [
        {
          "output_type": "stream",
          "text": [
            "Average overlap = 0.6802\n"
          ],
          "name": "stdout"
        }
      ]
    },
    {
      "cell_type": "markdown",
      "metadata": {
        "id": "YBp41Kn7ds28"
      },
      "source": [
        "## Rank-order correlation coefficients\n",
        "\n",
        "Reference: https://en.wikipedia.org/wiki/Rank_correlation"
      ]
    },
    {
      "cell_type": "markdown",
      "metadata": {
        "id": "pjR0NjdQKzxi"
      },
      "source": [
        "### Install"
      ]
    },
    {
      "cell_type": "code",
      "metadata": {
        "colab": {
          "base_uri": "https://localhost:8080/"
        },
        "id": "-h6KsxcZd-0Z",
        "outputId": "429011b0-ec2b-498f-d9fd-58ba123863c6"
      },
      "source": [
        "%pip install scipy"
      ],
      "execution_count": 33,
      "outputs": [
        {
          "output_type": "stream",
          "text": [
            "Requirement already satisfied: scipy in /usr/local/lib/python3.6/dist-packages (1.4.1)\n",
            "Requirement already satisfied: numpy>=1.13.3 in /usr/local/lib/python3.6/dist-packages (from scipy) (1.18.5)\n"
          ],
          "name": "stdout"
        }
      ]
    },
    {
      "cell_type": "markdown",
      "metadata": {
        "id": "jKXbi2xfb57D"
      },
      "source": [
        "### Convert rankings for scipy"
      ]
    },
    {
      "cell_type": "code",
      "metadata": {
        "colab": {
          "base_uri": "https://localhost:8080/"
        },
        "id": "m7cAK2kbenBJ",
        "outputId": "25fad811-761e-4fe3-e63a-3de4c1911cfd"
      },
      "source": [
        "app_ids = sorted(set(steam_ranking).union(steamdb_ranking))\n",
        "print('#appIDs = {}'.format(len(app_ids)))"
      ],
      "execution_count": 35,
      "outputs": [
        {
          "output_type": "stream",
          "text": [
            "#appIDs = 316\n"
          ],
          "name": "stdout"
        }
      ]
    },
    {
      "cell_type": "code",
      "metadata": {
        "id": "xnePuea_a7Jx"
      },
      "source": [
        "import numpy as np\n",
        "\n",
        "def convert_ranking(ranking, app_ids, reverse_order=False):\n",
        "  v = np.zeros(len(app_ids)).astype(np.int)\n",
        "\n",
        "  # Initialize v\n",
        "  out_of_bound_rank = len(ranking) + 1\n",
        "  v += out_of_bound_rank\n",
        "\n",
        "  for rank, app_id in enumerate(ranking, start=1):\n",
        "    v[app_ids.index(app_id)] = rank\n",
        "\n",
        "  if reverse_order:\n",
        "    # It is important the the ranks are non-negative for weighted tau!\n",
        "    v = out_of_bound_rank - v + 1\n",
        "\n",
        "  return v"
      ],
      "execution_count": 62,
      "outputs": []
    },
    {
      "cell_type": "code",
      "metadata": {
        "colab": {
          "base_uri": "https://localhost:8080/"
        },
        "id": "qDdf08GwFZeT",
        "outputId": "1b02d82b-c9b9-40f6-adb2-bfa2a31f5064"
      },
      "source": [
        "# Examples\n",
        "ranking = [\"a\", \"c\", \"b\", \"d\"]\n",
        "references = 'abcd'\n",
        "\n",
        "converted_ranking = convert_ranking(ranking, references, reverse_order=False)\n",
        "print({k:v for (k,v) in zip(references, converted_ranking)})\n",
        "\n",
        "converted_ranking_rev = convert_ranking(ranking, references, reverse_order=True)\n",
        "print({k:v for (k,v) in zip(references, converted_ranking_rev)})"
      ],
      "execution_count": 63,
      "outputs": [
        {
          "output_type": "stream",
          "text": [
            "{'a': 1, 'b': 3, 'c': 2, 'd': 4}\n",
            "{'a': 5, 'b': 3, 'c': 4, 'd': 2}\n"
          ],
          "name": "stdout"
        }
      ]
    },
    {
      "cell_type": "markdown",
      "metadata": {
        "id": "o_IZoWFdhEE3"
      },
      "source": [
        "### Spearman rho coefficient\n",
        "\n",
        "Reference: http://scipy.github.io/devdocs/generated/scipy.stats.spearmanr.html#scipy.stats.spearmanr"
      ]
    },
    {
      "cell_type": "code",
      "metadata": {
        "colab": {
          "base_uri": "https://localhost:8080/"
        },
        "id": "vT1kT9fcfv7L",
        "outputId": "2fda9631-7aa9-4dbc-859b-34f402c81980"
      },
      "source": [
        "from scipy import stats\n",
        "\n",
        "# TODO: investigate what this does if the rankings are fed this way.\n",
        "rho, p_value = stats.spearmanr(steam_ranking, \n",
        "                               steamdb_ranking)\n",
        "\n",
        "print('Spearman rank-order correlation coefficient: {:.4f}'.format(rho))\n",
        "print('p-value to test for non-correlation: {:.4f}'.format(p_value))"
      ],
      "execution_count": 119,
      "outputs": [
        {
          "output_type": "stream",
          "text": [
            "Spearman rank-order correlation coefficient: -0.0662\n",
            "p-value to test for non-correlation: 0.2968\n"
          ],
          "name": "stdout"
        }
      ]
    },
    {
      "cell_type": "code",
      "metadata": {
        "id": "22ChmM4tJHhu"
      },
      "source": [
        "# Arrays of rankings\n",
        "# NB: we would get the same rho with arrays of scores.\n",
        "\n",
        "x = convert_ranking(steam_ranking, \n",
        "                    app_ids=app_ids)\n",
        "\n",
        "y = convert_ranking(steamdb_ranking, \n",
        "                    app_ids=app_ids)"
      ],
      "execution_count": 103,
      "outputs": []
    },
    {
      "cell_type": "code",
      "metadata": {
        "colab": {
          "base_uri": "https://localhost:8080/"
        },
        "id": "UiIUMTd5gGWO",
        "outputId": "c89c7893-0621-4b36-f953-395d986ca829"
      },
      "source": [
        "from scipy import stats\n",
        "\n",
        "rho, p_value = stats.spearmanr(x, y)\n",
        "\n",
        "print('Spearman rank-order correlation coefficient: {:.4f}'.format(rho))\n",
        "print('p-value to test for non-correlation: {:.4f}'.format(p_value))"
      ],
      "execution_count": 104,
      "outputs": [
        {
          "output_type": "stream",
          "text": [
            "Spearman rank-order correlation coefficient: 0.4367\n",
            "p-value to test for non-correlation: 0.0000\n"
          ],
          "name": "stdout"
        }
      ]
    },
    {
      "cell_type": "markdown",
      "metadata": {
        "id": "-YqKqd7YhG1X"
      },
      "source": [
        "### Kendall's tau coefficient\n",
        "\n",
        "Reference: http://scipy.github.io/devdocs/generated/scipy.stats.kendalltau.html#scipy.stats.kendalltau"
      ]
    },
    {
      "cell_type": "code",
      "metadata": {
        "colab": {
          "base_uri": "https://localhost:8080/"
        },
        "id": "wYvddRkUNBxN",
        "outputId": "d8c98621-741d-4cf0-ca1a-bf2740982d7a"
      },
      "source": [
        "from scipy import stats\n",
        "\n",
        "# TODO: investigate what this does if the rankings are fed this way.\n",
        "tau, p_value = stats.kendalltau(steam_ranking,\n",
        "                                steamdb_ranking)\n",
        "\n",
        "print('Kendall rank-order correlation coefficient: {:.4f}'.format(tau))\n",
        "print('p-value to test for non-correlation: {:.4f}'.format(p_value))"
      ],
      "execution_count": 118,
      "outputs": [
        {
          "output_type": "stream",
          "text": [
            "Kendall rank-order correlation coefficient: -0.0441\n",
            "p-value to test for non-correlation: 0.2988\n"
          ],
          "name": "stdout"
        }
      ]
    },
    {
      "cell_type": "code",
      "metadata": {
        "id": "YKuBOcEGbsw_"
      },
      "source": [
        "# Arrays of rankings\n",
        "# NB: we would get the same tau with arrays of scores.\n",
        "\n",
        "x = convert_ranking(steam_ranking, \n",
        "                    app_ids=app_ids)\n",
        "\n",
        "y = convert_ranking(steamdb_ranking, \n",
        "                    app_ids=app_ids)"
      ],
      "execution_count": 93,
      "outputs": []
    },
    {
      "cell_type": "code",
      "metadata": {
        "colab": {
          "base_uri": "https://localhost:8080/"
        },
        "id": "ZwsUeJApbwqG",
        "outputId": "3b55978f-ca0a-429d-a490-4c9f7e92533a"
      },
      "source": [
        "from scipy import stats\n",
        "\n",
        "tau, p_value = stats.kendalltau(x, y)\n",
        "\n",
        "print('Kendall rank-order correlation coefficient: {:.4f}'.format(tau))\n",
        "print('p-value to test for non-correlation: {:.4f}'.format(p_value))"
      ],
      "execution_count": 94,
      "outputs": [
        {
          "output_type": "stream",
          "text": [
            "Kendall rank-order correlation coefficient: 0.3295\n",
            "p-value to test for non-correlation: 0.0000\n"
          ],
          "name": "stdout"
        }
      ]
    },
    {
      "cell_type": "markdown",
      "metadata": {
        "id": "4Zy-plXlhHjg"
      },
      "source": [
        "### Weighted Kendall's tau coefficien\n",
        "\n",
        "Reference: http://scipy.github.io/devdocs/generated/scipy.stats.weightedtau.html#scipy.stats.weightedtau"
      ]
    },
    {
      "cell_type": "code",
      "metadata": {
        "id": "uKem6ILreq5q"
      },
      "source": [
        "# Arrays of scores\n",
        "# NB: it is important NOT to feed arrays of rankings for the weighted tau!\n",
        "\n",
        "x = convert_ranking(steam_ranking, \n",
        "                    app_ids=app_ids, \n",
        "                    reverse_order=True)\n",
        "\n",
        "y = convert_ranking(steamdb_ranking, \n",
        "                    app_ids=app_ids, \n",
        "                    reverse_order=True)\n",
        "\n",
        "# **Caveat**: the order is reversed because of the following comment in the doc:\n",
        "#\n",
        "# > Note that if you are computing the weighted on arrays of ranks, rather than\n",
        "# > of scores (i.e., a larger value implies a lower rank) you must negate the \n",
        "# > ranks, so that elements of higher rank are associated with a larger value.\n",
        "#\n",
        "# Reference: http://scipy.github.io/devdocs/generated/scipy.stats.weightedtau.html#scipy.stats.weightedtau"
      ],
      "execution_count": 101,
      "outputs": []
    },
    {
      "cell_type": "code",
      "metadata": {
        "colab": {
          "base_uri": "https://localhost:8080/"
        },
        "id": "9Ehw9fZEhCP8",
        "outputId": "0d6b5d2c-f596-49e5-8326-39358531b99e"
      },
      "source": [
        "from scipy import stats\n",
        "\n",
        "weighted_tau, p_value = stats.weightedtau(x, y)\n",
        "\n",
        "print('Weighted Kendall rank-order correlation coefficient: {:.4f}'.format(weighted_tau))\n",
        "print('p-value to test for non-correlation: {:.4f}'.format(p_value))"
      ],
      "execution_count": 97,
      "outputs": [
        {
          "output_type": "stream",
          "text": [
            "Weighted Kendall rank-order correlation coefficient: 0.6404\n",
            "p-value to test for non-correlation: nan\n"
          ],
          "name": "stdout"
        }
      ]
    }
  ]
}